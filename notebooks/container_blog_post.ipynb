{
 "cells": [
  {
   "cell_type": "code",
   "execution_count": null,
   "metadata": {
    "scrolled": true
   },
   "outputs": [],
   "source": [
    "%session_id_prefix ${account-name}-${iam-user-name}\n",
    "%iam_role arn:aws:iam::${AWS::AccountId}:role/${Glue-service-role-name}\n",
    "%number_of_workers 1\n",
    "%worker_type Standard"
   ]
  },
  {
   "cell_type": "code",
   "execution_count": null,
   "metadata": {},
   "outputs": [],
   "source": [
    "# cell 1\n",
    "from pyspark import SparkContext\n",
    "from awsglue.context import GlueContext\n",
    "glueContext = GlueContext(SparkContext.getOrCreate())\n",
    "\n",
    "# cell 2\n",
    "inputDF = glueContext.create_dynamic_frame_from_options(\\\n",
    "connection_type = \"s3\",\\\n",
    "connection_options = {\"paths\": [\"s3://awsglue-datasets/examples/us-legislators/all/memberships.json\"]},\\\n",
    "format = \"json\")\n",
    "inputDF.printSchema()\n",
    "inputDF.toDF().show()\n",
    "\n",
    "# cell 3\n",
    "spark.sql(\"show databases\").show()"
   ]
  },
  {
   "cell_type": "code",
   "execution_count": null,
   "metadata": {},
   "outputs": [],
   "source": [
    "%list_sessions\n",
    "%stop_session\n",
    "%delete_session"
   ]
  }
 ],
 "metadata": {
  "interpreter": {
   "hash": "3cfe2e869e4f3aab5af06c23924dcfffcfc78b40424f6d17304522ccf6765e9f"
  },
  "kernelspec": {
   "display_name": "Glue PySpark",
   "language": "python",
   "name": "glue_python_kernel"
  },
  "language_info": {
   "codemirror_mode": {
    "name": "python",
    "version": 3
   },
   "file_extension": ".py",
   "mimetype": "text/x-python",
   "name": "Python_Glue_Session",
   "pygments_lexer": "python3"
  }
 },
 "nbformat": 4,
 "nbformat_minor": 2
}
