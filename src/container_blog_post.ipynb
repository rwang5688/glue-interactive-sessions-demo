{
 "cells": [
  {
   "cell_type": "code",
   "execution_count": null,
   "metadata": {},
   "outputs": [],
   "source": [
    "%iam_role arn:aws:iam::${AWS::AccountId}:role/${Glue-service-role-name}\n",
    "%session_id_prefix ${account-name}-${iam-user-name}"
   ]
  },
  {
   "cell_type": "code",
   "execution_count": null,
   "metadata": {},
   "outputs": [],
   "source": [
    "# cell 1\n",
    "from pyspark import SparkContext\n",
    "from awsglue.context import GlueContext\n",
    "glueContext = GlueContext(SparkContext.getOrCreate())\n",
    "\n",
    "# cell 2\n",
    "inputDF = glueContext.create_dynamic_frame_from_options(connection_type = \"s3\", connection_options = {\"paths\": [\"s3://awsglue-datasets/examples/us-legislators/all/memberships.json\"]}, format = \"json\")\n",
    "inputDF.toDF().show()\n",
    "\n",
    "# cell 3\n",
    "spark.sql(\"show databases\").show()"
   ]
  }
 ],
 "metadata": {
  "interpreter": {
   "hash": "3cfe2e869e4f3aab5af06c23924dcfffcfc78b40424f6d17304522ccf6765e9f"
  },
  "kernelspec": {
   "display_name": "Glue Spark",
   "language": "scala",
   "name": "glue_scala_kernel"
  },
  "language_info": {
   "codemirror_mode": "text/x-scala",
   "mimetype": "text/x-scala",
   "name": "scala",
   "pygments_lexer": "scala"
  }
 },
 "nbformat": 4,
 "nbformat_minor": 2
}
