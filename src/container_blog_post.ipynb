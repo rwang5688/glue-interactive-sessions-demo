{
 "cells": [
  {
   "cell_type": "code",
   "execution_count": 3,
   "metadata": {},
   "outputs": [
    {
     "name": "stdout",
     "output_type": "stream",
     "text": [
      "Welcome to the Glue Interactive Sessions Kernel\n",
      "For more information on available magic commands, please type %help in any new cell.\n",
      "\n",
      "Current iam_role is None\n",
      "iam_role has been set to arn:aws:iam::869796597165:role/LF-GlueServiceRole.\n",
      "Setting session ID prefix to wangrob-sandbox-06-aws-admin\n"
     ]
    }
   ],
   "source": [
    "%iam_role arn:aws:iam::${AWS::AccountId}:role/${Glue-service-role-name}\n",
    "%session_id_prefix ${user-account-name-iam-user-name}"
   ]
  },
  {
   "cell_type": "code",
   "execution_count": null,
   "metadata": {},
   "outputs": [
    {
     "name": "stdout",
     "output_type": "stream",
     "text": [
      "Authenticating with profile=default\n",
      "glue_role_arn defined by user: arn:aws:iam::869796597165:role/LF-GlueServiceRole\n",
      "Trying to create a Glue session for the kernel.\n",
      "Worker Type: G.1X\n",
      "Number of Workers: 5\n",
      "Session ID: wangrob-sandbox-06-aws-admin-48d20e8f-e52e-4655-9940-3b4be70af04c\n",
      "Applying the following default arguments:\n",
      "--glue_kernel_version 0.25\n",
      "--session-language scala\n",
      "--enable-glue-datacatalog true\n",
      "Waiting for session wangrob-sandbox-06-aws-admin-48d20e8f-e52e-4655-9940-3b4be70af04c to get into ready status...\n",
      "Session wangrob-sandbox-06-aws-admin-48d20e8f-e52e-4655-9940-3b4be70af04c has been created\n",
      "\n",
      "Error: <console>:1: error: ';' expected but 'import' found.\n"
     ]
    }
   ],
   "source": [
    "import findspark\n",
    "findspark.init()\n",
    "\n",
    "# cell 1\n",
    "from pyspark import SparkContext\n",
    "from awsglue.context import GlueContext\n",
    "glueContext = GlueContext(SparkContext.getOrCreate())\n",
    "\n",
    "# cell 2\n",
    "inputDF = glueContext.create_dynamic_frame_from_options(connection_type = \"s3\", connection_options = {\"paths\": [\"s3://awsglue-datasets/examples/us-legislators/all/memberships.json\"]}, format = \"json\")\n",
    "inputDF.toDF().show()\n",
    "\n",
    "# cell 3\n",
    "spark.sql(\"show databases\").show()"
   ]
  }
 ],
 "metadata": {
  "interpreter": {
   "hash": "3cfe2e869e4f3aab5af06c23924dcfffcfc78b40424f6d17304522ccf6765e9f"
  },
  "kernelspec": {
   "display_name": "Glue Spark",
   "language": "scala",
   "name": "glue_scala_kernel"
  },
  "language_info": {
   "codemirror_mode": "text/x-scala",
   "mimetype": "text/x-scala",
   "name": "scala",
   "pygments_lexer": "scala"
  }
 },
 "nbformat": 4,
 "nbformat_minor": 2
}
